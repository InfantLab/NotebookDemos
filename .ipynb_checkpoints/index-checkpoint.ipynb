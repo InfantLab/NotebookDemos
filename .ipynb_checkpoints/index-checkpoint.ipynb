{
 "cells": [
  {
   "cell_type": "markdown",
   "metadata": {},
   "source": [
    "# A quick Jupyter + R ( + mybinder.org) tutorial for social scientists  \n",
    "## Caspar Addyman, July 2018 \n",
    "\n",
    "Version 0.5, 19 March 2021\n",
    "\n",
    "### Abstract  \n",
    ">This notebook contains simple explanations and examples of how you might create a Jupyter notebook to make your data analysis transparent and reproducible. This is an early version so it's not great yet!\n",
    "\n",
    "\n",
    "Available here: https://github.com/YourBrain/NotebookDemos"
   ]
  },
  {
   "cell_type": "markdown",
   "metadata": {},
   "source": [
    "### Contents\n",
    "\n",
    "[Installation](#install)  \n",
    "[Getting started](#starting)  \n",
    "[Editing Markdown](#markdown)  \n",
    "[Running Code](#runcode)  \n",
    "[Loading Data](#loaddata)  \n",
    "Data filtering - *TO DO*  \n",
    "[Basic Graphs](#graphs)  \n",
    "[Basic Stats](#stats)  \n",
    "Fancy Graphs - *TO DO*  \n",
    "Fancy Stats  - *TO DO*  "
   ]
  },
  {
   "cell_type": "markdown",
   "metadata": {},
   "source": [
    "### Introduction \n",
    "\n",
    "Notebooks are a flexible means of creating and displaying nicely formatted web documents that combine text, equations, runnable computer code and the outputs of that code, including rich and interactive visualisations. Jupyter is standard type of notebook that is being very widely adopted across industry and the sciences.   \n",
    "\n",
    "The Jupyter system consists of a webserver that sends the Jupyter notebooks to web-browser and set of different interactive kernels (ikernels) that handle running code in different computer languages. The system was original developed to use Python. But it now supports R, JavaScript, Julia and many more. A newer version called JupterLab is very similar but tries to recreate the multi-window layout familiar to users of RStudio or Matlab.  \n",
    "\n",
    "In the basic case everything runs on your local computer. But because Jupyter notebooks run on web protocols it is possible for the server, the browser and the kernel to all be on different machines. One interesting example of this is [MyBinder.org](mybinder.org) which takes files from [GitHub](https://github.com/) and creates an environment that lets them be run by anyone, anywhere.\n",
    "\n",
    "For example, the current notebook can be found [here](https://github.com/YourBrain/NotebookDemos) and can be run by following this [link](http://beta.mybinder.org/v2/gh/yourbrain/notebookdemos/master?filepath=index.ipynb) or pressing this button: [![Binder](http://mybinder.org/badge.svg)](http://beta.mybinder.org/v2/gh/yourbrain/notebookdemos/master?filepath=index.ipynb)\n"
   ]
  },
  {
   "cell_type": "markdown",
   "metadata": {},
   "source": [
    "<a id='install'></a>"
   ]
  },
  {
   "cell_type": "markdown",
   "metadata": {},
   "source": [
    "#### Installation\n",
    "The best way to install Jupyter and R is using Anaconda\n",
    "1. Download [Anaconda Navigator](https://www.anaconda.com/download/). I recommend downloading the Python 3.x version.\n",
    "2. Launch Anaconda Navigator and install RStudio.\n",
    "3. Launch RStudio and then run the following commands to make the interactive R kernel (IRkernel) available on your system. \n",
    "```\n",
    "install.packages('devtools')\n",
    "devtools::install_github('IRkernel/IRkernel')\n",
    "IRkernel::installspec()\n",
    "```\n",
    "4. Launch either jupyterlab or jupyter notebook.\n",
    "5. Create a new notebook file (.ipynb) or navigate to an existing one. If you are using R then you will want change the active kernel in the Kernel menu."
   ]
  },
  {
   "cell_type": "markdown",
   "metadata": {},
   "source": [
    "<a id='starting'></a>"
   ]
  },
  {
   "cell_type": "markdown",
   "metadata": {},
   "source": [
    "#### Getting started \n",
    "\n",
    "We won't spend too much time on using R or how the Jupyter environment works. There are lots of resources out there already. \n",
    "\n",
    "##### Useful References\n",
    "* Jupyter site - https://jupyter.org/\n",
    "* Jupyter Help - See the help menu \n",
    "* Markdown Help - See the help menu\n",
    "\n",
    "\n",
    "#### Tutorials and examples \n",
    "* A guide to R for psychologists - http://personality-project.org/r/r.guide.html\n",
    "* Maths in markdown http://www.statpower.net/Content/310/R%20Stuff/SampleMarkdown.html\n",
    "* Python crashcourse - http://ehmatthes.github.io/pcc/cheatsheets/README.html\n",
    "* A detailed R tutorial from the Software Carpentry team\n",
    "https://swcarpentry.github.io/r-novice-gapminder/ \n",
    "* A psychologist's Guide to R - https://github.com/seanchrismurphy/A-Psychologists-Guide-to-R/\n",
    "* An open science tutorial from Michael C. Frank\n",
    "https://github.com/mcfrank/openscience_tutorial\n",
    "* Simple GGPlot examples https://www.statmethods.net/advgraphs/ggplot2.html\n",
    "\n",
    "#### Cheatsheets are your friend\n",
    "* Python3 cheatsheet - https://perso.limsi.fr/pointal/python:memento \n",
    "* R Syntax cheatsheet https://cran.r-project.org/doc/contrib/Short-refcard.pdf\n",
    "* TidyData cheatsheet - https://github.com/rstudio/cheatsheets/raw/master/data-transformation.pdf\n",
    "* GGPlot cheatsheet - https://github.com/rstudio/cheatsheets/raw/master/data-visualization-2.1.pdf\n",
    "* Python language reference - http://overapi.com/python \n",
    "* Lots of cheatsheats - https://www.rstudio.com/resources/cheatsheets/\n"
   ]
  },
  {
   "cell_type": "markdown",
   "metadata": {},
   "source": [
    "## THE TUTORIAL STARTS HERE "
   ]
  },
  {
   "cell_type": "markdown",
   "metadata": {},
   "source": [
    "<a id='markdown'></a>"
   ]
  },
  {
   "cell_type": "markdown",
   "metadata": {},
   "source": [
    "### Editing Markdown cells \n",
    "\n",
    "There are two types of editable cells in Jupyter. Markdown and Code. This is a markdown cell. Double click on it and you will see what it markdown format text looks like. \n",
    "\n",
    "It lets you create text with some simple formatting marks to indicate things like *italics* or **bold text** or [hyperlinks](https://google.com). You can display (non executable) `computer code` in the text or as a stand alone block:\n",
    "```\n",
    "qplot(hp, mpg, data=mtcars, shape=am, color=am, \n",
    "   facets=gear~cyl, size=I(3),\n",
    "   xlab=\"Horsepower\", ylab=\"Miles per Gallon\") \n",
    "```\n",
    "\n",
    "Markdown has very powerful equation formatting tools based on LaTeX which let add formulas into your text $\\sum_{i=1}^n x_{i}^2$ or on a separate line when things get complicated, like our old friend the Gaussian distribution\n",
    "\n",
    "$$\n",
    "f(x;\\mu,\\sigma^2) = \\frac{1}{\\sigma\\sqrt{2\\pi}} \n",
    "e^{ -\\frac{1}{2}\\left(\\frac{x-\\mu}{\\sigma}\\right)^2 }\n",
    "$$\n",
    "\n",
    "\n"
   ]
  },
  {
   "cell_type": "markdown",
   "metadata": {},
   "source": [
    "#### Try it for yourself\n",
    "This is also a markdown cell. Go ahead and change this text.\n",
    "\n",
    "Why not add a hyperlink with the [name of your website](http://google.com)\n",
    "\n",
    "OR put it a bit of code. The single backtick format is good for showing the names of things `myfunction`.\n",
    "The three quotes blocks of code let you show how someone might use your function. \n",
    "```\n",
    "total = 0\n",
    "for (i in range(10)):\n",
    "    total += myfunction(i)\n",
    "print(total)\n",
    "```\n"
   ]
  },
  {
   "cell_type": "markdown",
   "metadata": {},
   "source": [
    "Here's another cell.."
   ]
  },
  {
   "cell_type": "markdown",
   "metadata": {},
   "source": [
    "### Running code in notebooks"
   ]
  },
  {
   "cell_type": "code",
   "execution_count": 1,
   "metadata": {},
   "outputs": [
    {
     "name": "stdout",
     "output_type": "stream",
     "text": [
      "[1] \"Hello world\"\n"
     ]
    }
   ],
   "source": [
    "# This is a code cell. \n",
    "# In R comment lines starting with '#' are ignored\n",
    "#\n",
    "# To run/execute this code, click on the cell and press ctrl-enter\n",
    "\n",
    "print(\"Hello world\")"
   ]
  },
  {
   "cell_type": "code",
   "execution_count": 2,
   "metadata": {},
   "outputs": [
    {
     "name": "stdout",
     "output_type": "stream",
     "text": [
      "[1]  6.780942 15.251797  3.594433  2.992980  8.182645\n",
      "[1] 10.64982\n",
      "[1] 4.814415\n"
     ]
    }
   ],
   "source": [
    "# In Jupyter you can tell it's a code cell from the label on the left outside the cell\n",
    "# In [xx]:\n",
    "#\n",
    "# This can have three formats\n",
    "# In [ ]:    - brackets empty, cell hasn't yet been run on this occasion\n",
    "# In [*]:    - cell currently running\n",
    "# In [12]:   - this was the 12th cell to run/execute\n",
    "#\n",
    "# Because we are using the R kernel (aka IRkernel) cells is treated as R code.\n",
    "# if the kernel was changed to Python, etc. this cell would give lots of errors.\n",
    "# A kernel is the engine that runs the code. \n",
    "#\n",
    "# In RStudio, runnable code cells have a three icons in top right corner \n",
    "# (a cog, a down arrow and a play button)\n",
    "\n",
    "\n",
    "# Let's create some variables and give them values\n",
    "NX<-500    \n",
    "mu<-10\n",
    "sigma<-5\n",
    "\n",
    "#now generate NX random samples from Normal Distribution N(mu, sigma)\n",
    "samples<-rnorm(NX,mu,sigma) \n",
    "\n",
    "print(samples[1:5])  #print first 5 values\n",
    "print(mean(samples)) #calculate the mean\n",
    "print(sd(samples))   #calculate the std\n",
    "\n",
    "#to run the code, click on the cell and press Ctrl-Enter\n",
    "\n",
    "#do it again and you should see the values change"
   ]
  },
  {
   "cell_type": "code",
   "execution_count": 3,
   "metadata": {},
   "outputs": [
    {
     "name": "stdout",
     "output_type": "stream",
     "text": [
      "[1]  6.780942 15.251797  3.594433  2.992980  8.182645\n",
      "[1] 10.64982\n",
      "[1] 4.814415\n"
     ]
    }
   ],
   "source": [
    "#usually we don't want to recalculate everything at every step. \n",
    "#Dividing code into cells provides a way to control code execution\n",
    "#click in this cell and press control enter a few times\n",
    "print(samples[1:5])  #print first 5 values\n",
    "print(mean(samples)) #calculate the mean\n",
    "print(sd(samples))   #calculate the std"
   ]
  },
  {
   "cell_type": "code",
   "execution_count": 4,
   "metadata": {},
   "outputs": [
    {
     "name": "stderr",
     "output_type": "stream",
     "text": [
      "Warning message:\n",
      "\"package 'ggplot2' was built under R version 3.6.3\"`stat_bin()` using `bins = 30`. Pick better value with `binwidth`.\n"
     ]
    },
    {
     "data": {
      "image/png": "[encoded data removed]",
      "text/plain": [
       "plot without title"
      ]
     },
     "metadata": {},
     "output_type": "display_data"
    }
   ],
   "source": [
    "# output from cells can include figures\n",
    "# but first we have to load a figure plotting library\n",
    "library(ggplot2)\n",
    "\n",
    "qplot(samples)"
   ]
  },
  {
   "cell_type": "code",
   "execution_count": null,
   "metadata": {},
   "outputs": [],
   "source": [
    "# if you are not familiar with R, now would be a good time to play around\n"
   ]
  },
  {
   "cell_type": "markdown",
   "metadata": {},
   "source": [
    "<a id='loaddata'></a>"
   ]
  },
  {
   "cell_type": "markdown",
   "metadata": {},
   "source": [
    "### Loading data\n",
    "\n",
    "The first thing we usually want to do is load our data. Data can come from a local file or a URL. \n",
    "\n",
    "Unlike SPSS and more like spreadsheets, R lets you sort, transform, combine and filter data very easily. Unlike spreadsheets you can do this without worrying about altering your original data. The data is loaded into memory and the orignal file is untouched. \n",
    "\n",
    "#### Tidy Data\n",
    "\n",
    "One key concept for data files in R (and data science) is that of '[tidy data](https://cran.r-project.org/web/packages/tidyr/vignettes/tidy-data.html)'. This is a concept championed by Hadley Wickham. He says that:\n",
    "\n",
    "> In tidy data:\n",
    "  1. Each variable forms a column.\n",
    "  2. Each observation forms a row.\n",
    "  3. Each type of observational unit forms a table.\n",
    "\n",
    "If your data is in this format then everything else becomes a lot easier. In fact there is a whole [TidyVerse](https://www.tidyverse.org/) of tools that build from this assumption. \n",
    "\n",
    "*The main take home message from this you should keep your raw data in simple flat spreadsheets and let code do all the sorting and organing.*"
   ]
  },
  {
   "cell_type": "code",
   "execution_count": null,
   "metadata": {},
   "outputs": [],
   "source": [
    "#to use tools like those in TidyVerse, we need to install and load them\n",
    "install.packages(\"tidyverse\")\n",
    "\n",
    "library(readr)  #for loading data\n",
    "library(haven)  #for reading SPSS data\n",
    "library(dplyr)  #base functions for working with tidy data\n",
    "library(tidyr)  #tools for rearranging data\n",
    "library(ggplot2)#plotting graphs\n",
    "\n"
   ]
  },
  {
   "cell_type": "markdown",
   "metadata": {},
   "source": [
    "### Local data\n",
    "\n",
    "Data can be loaded from folders on the local machine. \n",
    "\n",
    "We have local files called `diet.csv` and `diet.sav`.\n",
    "\n",
    "These are meant to be identical data in csv and SPSS formats.\n"
   ]
  },
  {
   "cell_type": "code",
   "execution_count": null,
   "metadata": {},
   "outputs": [],
   "source": [
    "#useful first step is to find out which directory the notebook is working from\n",
    "getwd()\n",
    "dietdata<-read_csv('diet.csv')\n",
    "head(dietdata)"
   ]
  },
  {
   "cell_type": "code",
   "execution_count": null,
   "metadata": {},
   "outputs": [],
   "source": [
    "dietspss<-read_sav('diet.sav')\n",
    "head(dietspss)"
   ]
  },
  {
   "cell_type": "code",
   "execution_count": null,
   "metadata": {},
   "outputs": [],
   "source": [
    "#hmm it looks like the csv file didn't include a weightLOST column\n",
    "#lets calculate and add that to our local version\n",
    "\n",
    "dietdata$weightLOST<-dietdata$pre.weight-dietdata$weight6weeks\n",
    "head(dietdata)"
   ]
  },
  {
   "cell_type": "code",
   "execution_count": null,
   "metadata": {},
   "outputs": [],
   "source": [
    "#are they identical?\n",
    "sum(dietdata$weightLOST - dietspss$weightLOST)"
   ]
  },
  {
   "cell_type": "markdown",
   "metadata": {},
   "source": [
    "### Remote data \n",
    "\n",
    "\n",
    "The diet datafile comes from a nice collection created by the University of Sheffield. https://www.sheffield.ac.uk/mash/data \n",
    "\n",
    "Not only do they have data you can play around with.  They also have worked examples of how you might run various analyses with thse data https://www.sheffield.ac.uk/mash/statistics2/anova\n",
    "\n",
    "\n",
    "The original URL for the `diet.csv` file is \n",
    "> https://www.sheffield.ac.uk/polopoly_fs/1.570199!/file/stcp-Rdataset-Diet.csv\n",
    "\n",
    "Let's load that one."
   ]
  },
  {
   "cell_type": "code",
   "execution_count": null,
   "metadata": {},
   "outputs": [],
   "source": [
    "dietRemote<-read_csv(url(\"https://www.sheffield.ac.uk/polopoly_fs/1.570199!/file/stcp-Rdataset-Diet.csv\"))\n",
    "\n",
    "head(dietRemote)"
   ]
  },
  {
   "cell_type": "markdown",
   "metadata": {},
   "source": [
    "<a id='graphs'></a>"
   ]
  },
  {
   "cell_type": "markdown",
   "metadata": {},
   "source": [
    "### Graphs using ggplot2\n",
    "\n",
    "If there was one reason to use R instead of SPSS or Excel it is ggplot2. Another Hadley Wickham creation that makes it (relatively) easy to create beautiful and informative graphs. \n",
    "\n",
    "It takes a little getting used to a first (keep your cheatsheet handy). But once you get the hang of it is very powerful and adaptable.\n",
    "\n",
    "Plus, there are lots of examples and extensions available online. One useful extension I would recommend is `ggpubr` which adds the little details you need for a publication ready graph (e.g. adding significance comparisons between conditions).\n",
    "\n",
    "* https://blog.modeanalytics.com/r-ggplot-extension-packages\n",
    "* https://micahallen.org/2018/03/15/introducing-raincloud-plots/"
   ]
  },
  {
   "cell_type": "markdown",
   "metadata": {},
   "source": [
    "#### Data wrangling\n",
    "\n",
    "First we need to tell it a little bit more about our data types. i.e. which variables/columns are categorical data. We will give them labels too. And remove incomplete cases."
   ]
  },
  {
   "cell_type": "code",
   "execution_count": null,
   "metadata": {},
   "outputs": [],
   "source": [
    "# create factors with value labels \n",
    "dietdata$gender <- factor(dietdata$gender,levels=c(0,1),\n",
    "  \tlabels=c(\"Female\",\"Male\")) \n",
    "\n",
    "dietdata$Diet <- factor(dietdata$Diet,levels=c(1,2,3),\n",
    "  \tlabels=c(\"Control\",\"Low Carb\",\"Low Cal\")) \n",
    "\n",
    "#we also have two participants with missing value `NA` for gender.\n",
    "#Let's exclude them from the dataset\n",
    "# There are various ways to do this\n",
    "# use the function complete.cases to logically select rows\n",
    "dietall_v1<-dietdata[complete.cases(dietdata),]\n",
    "\n",
    "# or let tidyr do it for you\n",
    "dietall_v2<-dietdata %>% drop_na()  "
   ]
  },
  {
   "cell_type": "code",
   "execution_count": null,
   "metadata": {},
   "outputs": [],
   "source": [
    "#let's take a look at both of those\n",
    "head(dietall_v1)\n",
    "head(dietall_v2)"
   ]
  },
  {
   "cell_type": "code",
   "execution_count": null,
   "metadata": {},
   "outputs": [],
   "source": [
    "# Lets start with a couple of plots exploring our diet data\n",
    "# first a box plot comparing ages of males and females \n",
    "ggplot(data = dietall_v2, aes(x = gender, y=Age)) + \n",
    "        geom_boxplot() "
   ]
  },
  {
   "cell_type": "code",
   "execution_count": null,
   "metadata": {},
   "outputs": [],
   "source": [
    "# now how much weight was lost on each diet type\n",
    "ggplot(data = dietall_v2, aes(x = Diet, y=weightLOST)) + \n",
    "        geom_boxplot()  \n",
    "\n",
    "#let's count our groups too\n",
    "dietall_v2 %>% group_by(Diet) %>% count()"
   ]
  },
  {
   "cell_type": "code",
   "execution_count": null,
   "metadata": {},
   "outputs": [],
   "source": [
    "# now let's separate those out by gender\n",
    "ggplot(data = dietall_v2, aes(x = Diet, y=weightLOST)) + \n",
    "        geom_boxplot()  + facet_grid(~ gender,)\n",
    "\n",
    "#let's count our groups too\n",
    "dietall_v2 %>% group_by(Diet, gender) %>% count()"
   ]
  },
  {
   "cell_type": "markdown",
   "metadata": {},
   "source": [
    "Hopefully, this gives you a sense of how powerful ggplot is. Admittedly, the commands\n",
    "are not completely intuitive. YOU should get used to using the cheetsheet and for \n",
    "searching for examples online. The help community websites [StackExchange](https://stats.stackexchange.com/questions/tagged/ggplot2) and [Stack Overflow](https://stackoverflow.com/questions/tagged/ggplot2) both have lots of help for R and for tools like ggplot.\n",
    "\n",
    "\n",
    "Chances are you aren't the first person to encounter a particular problem."
   ]
  },
  {
   "cell_type": "code",
   "execution_count": null,
   "metadata": {},
   "outputs": [],
   "source": [
    "# let's try something a bit more modern\n",
    "ggplot(data = dietall_v2, aes(x = Diet, y=weightLOST)) + \n",
    "        geom_violin(aes(fill=Diet))  + \n",
    "       geom_jitter() +\n",
    "        facet_grid(~ gender,) +\n",
    "        ggtitle('Effect of diet type by gender') +\n",
    "        ylab('Weight lost in kg') + \n",
    "        theme_light()\n",
    "\n",
    "# notice that you can add and remove elements. Try uncommenting the third line"
   ]
  },
  {
   "cell_type": "code",
   "execution_count": null,
   "metadata": {},
   "outputs": [],
   "source": [
    "# I wonder if age affects success?\n",
    "ggplot(data = dietall_v2, aes(x = Age, y=weightLOST)) + \n",
    "        geom_smooth()"
   ]
  },
  {
   "cell_type": "code",
   "execution_count": null,
   "metadata": {},
   "outputs": [],
   "source": [
    "# is it easier to lose weight if you weigh more at the start?\n",
    "ggplot(data = dietall_v2, aes(x = pre.weight, y=weightLOST)) + \n",
    "        geom_smooth()"
   ]
  },
  {
   "cell_type": "code",
   "execution_count": null,
   "metadata": {},
   "outputs": [],
   "source": [
    "#can we see that as a classic linear regression instead?\n",
    "ggplot(data = dietall_v2, aes(x = pre.weight, y=weightLOST)) + \n",
    "        geom_point() +\n",
    "        geom_smooth(method=lm)"
   ]
  },
  {
   "cell_type": "markdown",
   "metadata": {},
   "source": [
    "<a id='stats'></a>"
   ]
  },
  {
   "cell_type": "markdown",
   "metadata": {},
   "source": [
    "### Basic Stats\n",
    "\n",
    "R was created by statisticians. The downside of this is that it is very difficult and unusual computer language. The upside is that it is the *BEST* environment for doing statistics and has a vast range of available tools. \n",
    "\n",
    "But be careful, stats is hard. \n"
   ]
  },
  {
   "cell_type": "code",
   "execution_count": null,
   "metadata": {
    "scrolled": true
   },
   "outputs": [],
   "source": [
    "#let's start with something we think we understand..\n",
    "#try to run a t-test \n",
    "t.test(x = dietall_v2$pre.weight, y= dietall_v2$weight6weeks)"
   ]
  },
  {
   "cell_type": "code",
   "execution_count": null,
   "metadata": {},
   "outputs": [],
   "source": [
    "\n",
    "t.test(x = dietall_v2$pre.weight, y= dietall_v2$weight6weeks,\n",
    "      paired = TRUE, var.equal = TRUE)"
   ]
  },
  {
   "cell_type": "code",
   "execution_count": null,
   "metadata": {},
   "outputs": [],
   "source": [
    "install.packages(\"psych\")\n"
   ]
  },
  {
   "cell_type": "code",
   "execution_count": null,
   "metadata": {},
   "outputs": [],
   "source": [
    "\n",
    "\n",
    "m1 = mean(dietall_v2$pre.weight)\n",
    "m2 = mean(dietall_v2$weight6weeks)\n",
    "diff = dietall_v2$pre.weight - dietall_v2$weight6weeks\n",
    "\n",
    "d = (m1-m2)/sd(diff)\n",
    "d"
   ]
  },
  {
   "cell_type": "markdown",
   "metadata": {},
   "source": [
    "#### ezANOVA\n",
    "\n",
    "It rapidly gets a lot more complicated than that. R has a much more generic and flexible approach to linear models and analysis of variance. This can be very confusing for social scientists. Again the solution is to make use of extensions which take care of this for you. Package `ez` is useful for running ANOVA.\n"
   ]
  },
  {
   "cell_type": "code",
   "execution_count": null,
   "metadata": {},
   "outputs": [],
   "source": [
    "install.packages(\"ez\")\n",
    "library(ez)"
   ]
  },
  {
   "cell_type": "code",
   "execution_count": null,
   "metadata": {},
   "outputs": [],
   "source": [
    "ezANOVA(dietall_v2,\n",
    "        dv = weightLOST,\n",
    "        wid = Person,\n",
    "        between = .(gender, Diet))"
   ]
  },
  {
   "cell_type": "code",
   "execution_count": null,
   "metadata": {},
   "outputs": [],
   "source": []
  },
  {
   "cell_type": "code",
   "execution_count": null,
   "metadata": {},
   "outputs": [],
   "source": [
    "ezANOVA(dietall_v2,\n",
    "        dv = weightLOST,\n",
    "        wid = Person,\n",
    "        between = .(gender, Diet))"
   ]
  },
  {
   "cell_type": "markdown",
   "metadata": {},
   "source": [
    "\n",
    "Another handy tool is `ggstatsplot` which combines simple stats and graphs into a single call\n",
    "\n",
    "https://indrajeetpatil.github.io/ggstatsplot/\n",
    "\n",
    "Here's a quick example to see how easy it is.."
   ]
  },
  {
   "cell_type": "code",
   "execution_count": null,
   "metadata": {},
   "outputs": [],
   "source": [
    "library(ggstatsplot)"
   ]
  },
  {
   "cell_type": "code",
   "execution_count": null,
   "metadata": {},
   "outputs": [],
   "source": [
    "ggstatsplot::ggbetweenstats(data = dietall_v2,\n",
    "                            x = Diet,\n",
    "                            y = weightLOST\n",
    "                            )"
   ]
  }
 ],
 "metadata": {
  "kernelspec": {
   "display_name": "R",
   "language": "R",
   "name": "ir"
  },
  "language_info": {
   "codemirror_mode": "r",
   "file_extension": ".r",
   "mimetype": "text/x-r-source",
   "name": "R",
   "pygments_lexer": "r",
   "version": "3.6.1"
  }
 },
 "nbformat": 4,
 "nbformat_minor": 4
}
