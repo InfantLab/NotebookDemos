{
 "cells": [
  {
   "cell_type": "markdown",
   "metadata": {},
   "source": [
    "# A quick Jupyter + R ( + mybinder.org) tutorial for social scientists  \n",
    "## Caspar Addyman, July 2018 \n",
    "\n",
    "Version 0.4, 8 August 2018  \n",
    "\n",
    "### Abstract  \n",
    ">This notebook contains simple explanations and examples of how you might create a Jupyter notebook to make your data analysis transparent and reproducible. This is an early version so it's not great yet!\n",
    "\n",
    "\n",
    "Available here: https://github.com/YourBrain/NotebookDemos"
   ]
  },
  {
   "cell_type": "markdown",
   "metadata": {},
   "source": [
    "### Contents\n",
    "\n",
    "[Installation](#install)  \n",
    "[Getting started](#starting)  \n",
    "[Editing Markdown](#markdown)  \n",
    "[Running Code](#runcode)  \n",
    "[Loading Data](#loaddata)  \n",
    "Data filtering - *TO DO*  \n",
    "[Basic Graphs](#graphs)  \n",
    "[Basic Stats](#stats)  \n",
    "Fancy Graphs - *TO DO*  \n",
    "Fancy Stats  - *TO DO*  "
   ]
  },
  {
   "cell_type": "markdown",
   "metadata": {},
   "source": [
    "### Introduction \n",
    "\n",
    "Notebooks are a flexible means of creating and displaying nicely formatted web documents that combine text, equations, runnable computer code and the outputs of that code, including rich and interactive visualisations. Jupyter is standard type of notebook that is being very widely adopted across industry and the sciences.   \n",
    "\n",
    "The Jupyter system consists of a webserver that sends the Jupyter notebooks to web-browser and set of different interactive kernels (ikernels) that handle running code in different computer languages. The system was original developed to use Python. But it now supports R, JavaScript, Julia and many more. A newer version called JupterLab is very similar but tries to recreate the multi-window layout familiar to users of RStudio or Matlab.  \n",
    "\n",
    "In the basic case everything runs on your local computer. But because Jupyter notebooks run on web protocols it is possible for the server, the browser and the kernel to all be on different machines. One interesting example of this is [MyBinder.org](mybinder.org) which takes files from [GitHub](https://github.com/) and creates an environment that lets them be run by anyone, anywhere.\n",
    "\n",
    "For example, the current notebook can be found [here](https://github.com/YourBrain/NotebookDemos) and can be run by following this [link](http://beta.mybinder.org/v2/gh/yourbrain/notebookdemos/master?filepath=index.ipynb) or pressing this button: [![Binder](http://mybinder.org/badge.svg)](http://beta.mybinder.org/v2/gh/yourbrain/notebookdemos/master?filepath=index.ipynb)\n"
   ]
  },
  {
   "cell_type": "markdown",
   "metadata": {},
   "source": [
    "<a id='install'></a>"
   ]
  },
  {
   "cell_type": "markdown",
   "metadata": {},
   "source": [
    "#### Installation\n",
    "The best way to install Jupyter and R is using Anaconda\n",
    "1. Download [Anaconda Navigator](https://www.anaconda.com/download/). I recommend downloading the Python 3.x version.\n",
    "2. Launch Anaconda Navigator and install RStudio.\n",
    "3. Launch RStudio and then run the following commands to make the interactive R kernel (IRkernel) available on your system. \n",
    "```\n",
    "install.packages('devtools')\n",
    "devtools::install_github('IRkernel/IRkernel')\n",
    "IRkernel::installspec()\n",
    "```\n",
    "4. Launch either jupyterlab or jupyter notebook.\n",
    "5. Create a new notebook file (.ipynb) or navigate to an existing one. If you are using R then you will want change the active kernel in the Kernel menu."
   ]
  },
  {
   "cell_type": "markdown",
   "metadata": {},
   "source": [
    "<a id='starting'></a>"
   ]
  },
  {
   "cell_type": "markdown",
   "metadata": {},
   "source": [
    "#### Getting started \n",
    "\n",
    "We won't spend too much time on using R or how the Jupyter environment works. There are lots of resources out there already. \n",
    "\n",
    "##### Useful References\n",
    "* Jupyter site - https://jupyter.org/\n",
    "* Jupyter Help - See the help menu \n",
    "* Markdown Help - See the help menu\n",
    "\n",
    "\n",
    "#### Tutorials and examples \n",
    "* A guide to R for psychologists - http://personality-project.org/r/r.guide.html\n",
    "* Maths in markdown http://www.statpower.net/Content/310/R%20Stuff/SampleMarkdown.html\n",
    "* Python crashcourse - http://ehmatthes.github.io/pcc/cheatsheets/README.html\n",
    "* A detailed R tutorial from the Software Carpentry team\n",
    "https://swcarpentry.github.io/r-novice-gapminder/ \n",
    "* A psychologist's Guide to R - https://github.com/seanchrismurphy/A-Psychologists-Guide-to-R/\n",
    "* An open science tutorial from Michael C. Frank\n",
    "https://github.com/mcfrank/openscience_tutorial\n",
    "* Simple GGPlot examples https://www.statmethods.net/advgraphs/ggplot2.html\n",
    "\n",
    "#### Cheatsheets are your friend\n",
    "* Python3 cheatsheet - https://perso.limsi.fr/pointal/python:memento \n",
    "* R Syntax cheatsheet https://cran.r-project.org/doc/contrib/Short-refcard.pdf\n",
    "* TidyData cheatsheet - https://github.com/rstudio/cheatsheets/raw/master/data-transformation.pdf\n",
    "* GGPlot cheatsheet - https://github.com/rstudio/cheatsheets/raw/master/data-visualization-2.1.pdf\n",
    "* Python language reference - http://overapi.com/python \n",
    "* Lots of cheatsheats - https://www.rstudio.com/resources/cheatsheets/\n"
   ]
  },
  {
   "cell_type": "markdown",
   "metadata": {},
   "source": [
    "## THE TUTORIAL STARTS HERE "
   ]
  },
  {
   "cell_type": "markdown",
   "metadata": {},
   "source": [
    "<a id='markdown'></a>"
   ]
  },
  {
   "cell_type": "markdown",
   "metadata": {},
   "source": [
    "### Editing Markdown cells \n",
    "\n",
    "There are two types of editable cells in Jupyter. Markdown and Code. This is a markdown cell. Double click on it and you will see what it markdown format text looks like. \n",
    "\n",
    "It lets you create text with some simple formatting marks to indicate things like *italics* or **bold text** or [hyperlinks](https://google.com). You can display (non executable) `computer code` in the text or as a stand alone block:\n",
    "```\n",
    "qplot(hp, mpg, data=mtcars, shape=am, color=am, \n",
    "   facets=gear~cyl, size=I(3),\n",
    "   xlab=\"Horsepower\", ylab=\"Miles per Gallon\") \n",
    "```\n",
    "\n",
    "Markdown has very powerful equation formatting tools based on LaTeX which let add formulas into your text $\\sum_{i=1}^n x_{i}^2$ or on a separate line when things get complicated, like our old friend the Gaussian distribution\n",
    "\n",
    "$$\n",
    "f(x;\\mu,\\sigma^2) = \\frac{1}{\\sigma\\sqrt{2\\pi}} \n",
    "e^{ -\\frac{1}{2}\\left(\\frac{x-\\mu}{\\sigma}\\right)^2 }\n",
    "$$\n",
    "\n",
    "\n"
   ]
  },
  {
   "cell_type": "markdown",
   "metadata": {},
   "source": [
    "#### Try it for yourself\n",
    "This is also a markdown cell. Go ahead and change some this text.\n",
    "\n",
    "Why not add a hyperlink with the [name of your website](http://google.com)\n",
    "\n",
    "OR put it a bit of code. The single backtick format is good for showing the names of things `myfunction`.\n",
    "The three quotes blocks of code let you show how someone might use your function. \n",
    "```\n",
    "total = 0\n",
    "for (i in range(10)):\n",
    "    total += myfunction(i)\n",
    "print(total)\n",
    "```\n"
   ]
  },
  {
   "cell_type": "markdown",
   "metadata": {},
   "source": [
    "Here's another cell.."
   ]
  },
  {
   "cell_type": "markdown",
   "metadata": {},
   "source": [
    "### Running code in notebooks"
   ]
  },
  {
   "cell_type": "code",
   "execution_count": 1,
   "metadata": {},
   "outputs": [
    {
     "name": "stdout",
     "output_type": "stream",
     "text": [
      "[1] \"Hello world\"\n"
     ]
    }
   ],
   "source": [
    "# This is a code cell. \n",
    "# In R comment lines starting with '#' are ignored\n",
    "#\n",
    "# To run/execute this code, click on the cell and press ctrl-enter\n",
    "\n",
    "print(\"Hello world\")"
   ]
  },
  {
   "cell_type": "code",
   "execution_count": 4,
   "metadata": {},
   "outputs": [
    {
     "name": "stdout",
     "output_type": "stream",
     "text": [
      "[1]  7.2789584  0.6772542 14.8098531  5.0609936 11.8033869\n",
      "[1] 9.938641\n",
      "[1] 5.073265\n"
     ]
    }
   ],
   "source": [
    "# In Jupyter you can tell it's a code cell from the label on the left outside the cell\n",
    "# In [xx]:\n",
    "#\n",
    "# This can have three formats\n",
    "# In [ ]:    - brackets empty, cell hasn't yet been run on this occasion\n",
    "# In [*]:    - cell currently running\n",
    "# In [12]:   - this was the 12th cell to run/execute\n",
    "#\n",
    "# Because we are using the R kernel (aka IRkernel) cells is treated as R code.\n",
    "# if the kernel was changed to Python, etc. this cell would give lots of errors.\n",
    "# A kernel is the engine that runs the code. \n",
    "#\n",
    "# In RStudio, runnable code cells have a three icons in top right corner \n",
    "# (a cog, a down arrow and a play button)\n",
    "\n",
    "\n",
    "# Let's create some variables and give them values\n",
    "NX<-500    \n",
    "mu<-10\n",
    "sigma<-5\n",
    "\n",
    "#now generate NX random samples from Normal Distribution N(mu, sigma)\n",
    "samples<-rnorm(NX,mu,sigma) \n",
    "\n",
    "print(samples[1:5])  #print first 5 values\n",
    "print(mean(samples)) #calculate the mean\n",
    "print(sd(samples))   #calculate the std\n",
    "\n",
    "#to run the code, click on the cell and press Ctrl-Enter\n",
    "\n",
    "#do it again and you should see the values change"
   ]
  },
  {
   "cell_type": "code",
   "execution_count": 2,
   "metadata": {},
   "outputs": [
    {
     "name": "stdout",
     "output_type": "stream",
     "text": [
      "[1]  8.326042 15.000530  4.896890  2.377196 15.256076\n",
      "[1] 10.0702\n",
      "[1] 4.798073\n"
     ]
    }
   ],
   "source": [
    "#usually we don't want to recalculate everything at every step. \n",
    "#Dividing code into cells provides a way to control code execution\n",
    "#click in this cell and press control enter a few times\n",
    "print(samples[1:5])  #print first 5 values\n",
    "print(mean(samples)) #calculate the mean\n",
    "print(sd(samples))   #calculate the std"
   ]
  },
  {
   "cell_type": "code",
   "execution_count": 5,
   "metadata": {},
   "outputs": [
    {
     "name": "stderr",
     "output_type": "stream",
     "text": [
      "Warning message:\n",
      "\"package 'ggplot2' was built under R version 3.6.3\"`stat_bin()` using `bins = 30`. Pick better value with `binwidth`.\n"
     ]
    },
    {
     "data": {
      "image/png": "[encoded data removed]",
      "text/plain": [
       "plot without title"
      ]
     },
     "metadata": {},
     "output_type": "display_data"
    }
   ],
   "source": [
    "# output from cells can include figures\n",
    "# but first we have to load a figure plotting library\n",
    "library(ggplot2)\n",
    "\n",
    "qplot(samples)"
   ]
  },
  {
   "cell_type": "code",
   "execution_count": 4,
   "metadata": {},
   "outputs": [],
   "source": [
    "# if you are not familiar with R, now would be a good time to play around\n"
   ]
  },
  {
   "cell_type": "markdown",
   "metadata": {},
   "source": [
    "<a id='loaddata'></a>"
   ]
  },
  {
   "cell_type": "markdown",
   "metadata": {},
   "source": [
    "### Loading data\n",
    "\n",
    "The first thing we usually want to do is load our data. Data can come from a local file or a URL. \n",
    "\n",
    "Unlike SPSS and more like spreadsheets, R lets you sort, transform, combine and filter data very easily. Unlike spreadsheets you can do this without worrying about altering your original data. The data is loaded into memory and the orignal file is untouched. \n",
    "\n",
    "#### Tidy Data\n",
    "\n",
    "One key concept for data files in R (and data science) is that of '[tidy data](https://cran.r-project.org/web/packages/tidyr/vignettes/tidy-data.html)'. This is a concept championed by Hadley Wickham. He says that:\n",
    "\n",
    "> In tidy data:\n",
    "  1. Each variable forms a column.\n",
    "  2. Each observation forms a row.\n",
    "  3. Each type of observational unit forms a table.\n",
    "\n",
    "If your data is in this format then everything else becomes a lot easier. In fact there is a whole [TidyVerse](https://www.tidyverse.org/) of tools that build from this assumption. \n",
    "\n",
    "*The main take home message from this you should keep your raw data in simple flat spreadsheets and let code do all the sorting and organing.*"
   ]
  },
  {
   "cell_type": "code",
   "execution_count": 6,
   "metadata": {},
   "outputs": [
    {
     "name": "stderr",
     "output_type": "stream",
     "text": [
      "Installing package into 'C:/Users/cas/OneDrive/Documents/R/win-library/3.6'\n",
      "(as 'lib' is unspecified)\n"
     ]
    },
    {
     "name": "stdout",
     "output_type": "stream",
     "text": [
      "package 'tidyverse' successfully unpacked and MD5 sums checked\n",
      "\n",
      "The downloaded binary packages are in\n",
      "\tC:\\Users\\cas\\AppData\\Local\\Temp\\RtmpSUj0OX\\downloaded_packages\n"
     ]
    },
    {
     "name": "stderr",
     "output_type": "stream",
     "text": [
      "Warning message:\n",
      "\"package 'readr' was built under R version 3.6.3\"Warning message:\n",
      "\"package 'haven' was built under R version 3.6.3\"Warning message:\n",
      "\"package 'dplyr' was built under R version 3.6.3\"\n",
      "Attaching package: 'dplyr'\n",
      "\n",
      "The following objects are masked from 'package:stats':\n",
      "\n",
      "    filter, lag\n",
      "\n",
      "The following objects are masked from 'package:base':\n",
      "\n",
      "    intersect, setdiff, setequal, union\n",
      "\n",
      "Warning message:\n",
      "\"package 'tidyr' was built under R version 3.6.3\""
     ]
    }
   ],
   "source": [
    "#to use tools like those in TidyVerse, we need to install and load them\n",
    "install.packages(\"tidyverse\")\n",
    "\n",
    "library(readr)  #for loading data\n",
    "library(haven)  #for reading SPSS data\n",
    "library(dplyr)  #base functions for working with tidy data\n",
    "library(tidyr)  #tools for rearranging data\n",
    "library(ggplot2)#plotting graphs\n",
    "\n"
   ]
  },
  {
   "cell_type": "markdown",
   "metadata": {},
   "source": [
    "### Local data\n",
    "\n",
    "Data can be loaded from folders on the local machine. \n",
    "\n",
    "We have local files called `diet.csv` and `diet.sav`.\n",
    "\n",
    "These are meant to be identical data in csv and SPSS formats.\n"
   ]
  },
  {
   "cell_type": "code",
   "execution_count": 27,
   "metadata": {},
   "outputs": [
    {
     "data": {
      "text/html": [
       "'C:/Users/cas/OneDrive - Goldsmiths College/Code/NotebookDemos'"
      ],
      "text/latex": [
       "'C:/Users/cas/OneDrive - Goldsmiths College/Code/NotebookDemos'"
      ],
      "text/markdown": [
       "'C:/Users/cas/OneDrive - Goldsmiths College/Code/NotebookDemos'"
      ],
      "text/plain": [
       "[1] \"C:/Users/cas/OneDrive - Goldsmiths College/Code/NotebookDemos\""
      ]
     },
     "metadata": {},
     "output_type": "display_data"
    },
    {
     "name": "stderr",
     "output_type": "stream",
     "text": [
      "\n",
      "-- Column specification --------------------------------------------------------\n",
      "cols(\n",
      "  Person = col_double(),\n",
      "  gender = col_double(),\n",
      "  Age = col_double(),\n",
      "  Height = col_double(),\n",
      "  pre.weight = col_double(),\n",
      "  Diet = col_double(),\n",
      "  weight6weeks = col_double()\n",
      ")\n",
      "\n"
     ]
    },
    {
     "data": {
      "text/html": [
       "<table>\n",
       "<thead><tr><th scope=col>Person</th><th scope=col>gender</th><th scope=col>Age</th><th scope=col>Height</th><th scope=col>pre.weight</th><th scope=col>Diet</th><th scope=col>weight6weeks</th></tr></thead>\n",
       "<tbody>\n",
       "\t<tr><td>25   </td><td>NA   </td><td>41   </td><td>171  </td><td> 60  </td><td>2    </td><td> 60.0</td></tr>\n",
       "\t<tr><td>26   </td><td>NA   </td><td>32   </td><td>174  </td><td>103  </td><td>2    </td><td>103.0</td></tr>\n",
       "\t<tr><td> 1   </td><td> 0   </td><td>22   </td><td>159  </td><td> 58  </td><td>1    </td><td> 54.2</td></tr>\n",
       "\t<tr><td> 2   </td><td> 0   </td><td>46   </td><td>192  </td><td> 60  </td><td>1    </td><td> 54.0</td></tr>\n",
       "\t<tr><td> 3   </td><td> 0   </td><td>55   </td><td>170  </td><td> 64  </td><td>1    </td><td> 63.3</td></tr>\n",
       "\t<tr><td> 4   </td><td> 0   </td><td>33   </td><td>171  </td><td> 64  </td><td>1    </td><td> 61.1</td></tr>\n",
       "</tbody>\n",
       "</table>\n"
      ],
      "text/latex": [
       "\\begin{tabular}{r|lllllll}\n",
       " Person & gender & Age & Height & pre.weight & Diet & weight6weeks\\\\\n",
       "\\hline\n",
       "\t 25    & NA    & 41    & 171   &  60   & 2     &  60.0\\\\\n",
       "\t 26    & NA    & 32    & 174   & 103   & 2     & 103.0\\\\\n",
       "\t  1    &  0    & 22    & 159   &  58   & 1     &  54.2\\\\\n",
       "\t  2    &  0    & 46    & 192   &  60   & 1     &  54.0\\\\\n",
       "\t  3    &  0    & 55    & 170   &  64   & 1     &  63.3\\\\\n",
       "\t  4    &  0    & 33    & 171   &  64   & 1     &  61.1\\\\\n",
       "\\end{tabular}\n"
      ],
      "text/markdown": [
       "\n",
       "| Person | gender | Age | Height | pre.weight | Diet | weight6weeks |\n",
       "|---|---|---|---|---|---|---|\n",
       "| 25    | NA    | 41    | 171   |  60   | 2     |  60.0 |\n",
       "| 26    | NA    | 32    | 174   | 103   | 2     | 103.0 |\n",
       "|  1    |  0    | 22    | 159   |  58   | 1     |  54.2 |\n",
       "|  2    |  0    | 46    | 192   |  60   | 1     |  54.0 |\n",
       "|  3    |  0    | 55    | 170   |  64   | 1     |  63.3 |\n",
       "|  4    |  0    | 33    | 171   |  64   | 1     |  61.1 |\n",
       "\n"
      ],
      "text/plain": [
       "  Person gender Age Height pre.weight Diet weight6weeks\n",
       "1 25     NA     41  171     60        2     60.0       \n",
       "2 26     NA     32  174    103        2    103.0       \n",
       "3  1      0     22  159     58        1     54.2       \n",
       "4  2      0     46  192     60        1     54.0       \n",
       "5  3      0     55  170     64        1     63.3       \n",
       "6  4      0     33  171     64        1     61.1       "
      ]
     },
     "metadata": {},
     "output_type": "display_data"
    }
   ],
   "source": [
    "#useful first step is to find out which directory the notebook is working from\n",
    "getwd()\n",
    "dietdata<-read_csv('diet.csv')\n",
    "head(dietdata)"
   ]
  },
  {
   "cell_type": "code",
   "execution_count": 9,
   "metadata": {},
   "outputs": [
    {
     "data": {
      "text/html": [
       "<table>\n",
       "<thead><tr><th scope=col>Person</th><th scope=col>gender</th><th scope=col>Age</th><th scope=col>Height</th><th scope=col>preweight</th><th scope=col>Diet</th><th scope=col>weight10weeks</th><th scope=col>weightLOST</th></tr></thead>\n",
       "<tbody>\n",
       "\t<tr><td>25   </td><td>NA   </td><td>41   </td><td>171  </td><td> 60  </td><td>2    </td><td> 60.0</td><td>0.0  </td></tr>\n",
       "\t<tr><td>26   </td><td>NA   </td><td>32   </td><td>174  </td><td>103  </td><td>2    </td><td>103.0</td><td>0.0  </td></tr>\n",
       "\t<tr><td> 1   </td><td> 0   </td><td>22   </td><td>159  </td><td> 58  </td><td>1    </td><td> 54.2</td><td>3.8  </td></tr>\n",
       "\t<tr><td> 2   </td><td> 0   </td><td>46   </td><td>192  </td><td> 60  </td><td>1    </td><td> 54.0</td><td>6.0  </td></tr>\n",
       "\t<tr><td> 3   </td><td> 0   </td><td>55   </td><td>170  </td><td> 64  </td><td>1    </td><td> 63.3</td><td>0.7  </td></tr>\n",
       "\t<tr><td> 4   </td><td> 0   </td><td>33   </td><td>171  </td><td> 64  </td><td>1    </td><td> 61.1</td><td>2.9  </td></tr>\n",
       "</tbody>\n",
       "</table>\n"
      ],
      "text/latex": [
       "\\begin{tabular}{r|llllllll}\n",
       " Person & gender & Age & Height & preweight & Diet & weight10weeks & weightLOST\\\\\n",
       "\\hline\n",
       "\t 25    & NA    & 41    & 171   &  60   & 2     &  60.0 & 0.0  \\\\\n",
       "\t 26    & NA    & 32    & 174   & 103   & 2     & 103.0 & 0.0  \\\\\n",
       "\t  1    &  0    & 22    & 159   &  58   & 1     &  54.2 & 3.8  \\\\\n",
       "\t  2    &  0    & 46    & 192   &  60   & 1     &  54.0 & 6.0  \\\\\n",
       "\t  3    &  0    & 55    & 170   &  64   & 1     &  63.3 & 0.7  \\\\\n",
       "\t  4    &  0    & 33    & 171   &  64   & 1     &  61.1 & 2.9  \\\\\n",
       "\\end{tabular}\n"
      ],
      "text/markdown": [
       "\n",
       "| Person | gender | Age | Height | preweight | Diet | weight10weeks | weightLOST |\n",
       "|---|---|---|---|---|---|---|---|\n",
       "| 25    | NA    | 41    | 171   |  60   | 2     |  60.0 | 0.0   |\n",
       "| 26    | NA    | 32    | 174   | 103   | 2     | 103.0 | 0.0   |\n",
       "|  1    |  0    | 22    | 159   |  58   | 1     |  54.2 | 3.8   |\n",
       "|  2    |  0    | 46    | 192   |  60   | 1     |  54.0 | 6.0   |\n",
       "|  3    |  0    | 55    | 170   |  64   | 1     |  63.3 | 0.7   |\n",
       "|  4    |  0    | 33    | 171   |  64   | 1     |  61.1 | 2.9   |\n",
       "\n"
      ],
      "text/plain": [
       "  Person gender Age Height preweight Diet weight10weeks weightLOST\n",
       "1 25     NA     41  171     60       2     60.0         0.0       \n",
       "2 26     NA     32  174    103       2    103.0         0.0       \n",
       "3  1      0     22  159     58       1     54.2         3.8       \n",
       "4  2      0     46  192     60       1     54.0         6.0       \n",
       "5  3      0     55  170     64       1     63.3         0.7       \n",
       "6  4      0     33  171     64       1     61.1         2.9       "
      ]
     },
     "metadata": {},
     "output_type": "display_data"
    }
   ],
   "source": [
    "dietspss<-read_sav('diet.sav')\n",
    "head(dietspss)"
   ]
  },
  {
   "cell_type": "code",
   "execution_count": 28,
   "metadata": {},
   "outputs": [
    {
     "data": {
      "text/html": [
       "<table>\n",
       "<thead><tr><th scope=col>Person</th><th scope=col>gender</th><th scope=col>Age</th><th scope=col>Height</th><th scope=col>pre.weight</th><th scope=col>Diet</th><th scope=col>weight6weeks</th><th scope=col>weightLOST</th></tr></thead>\n",
       "<tbody>\n",
       "\t<tr><td>25   </td><td>NA   </td><td>41   </td><td>171  </td><td> 60  </td><td>2    </td><td> 60.0</td><td>0.0  </td></tr>\n",
       "\t<tr><td>26   </td><td>NA   </td><td>32   </td><td>174  </td><td>103  </td><td>2    </td><td>103.0</td><td>0.0  </td></tr>\n",
       "\t<tr><td> 1   </td><td> 0   </td><td>22   </td><td>159  </td><td> 58  </td><td>1    </td><td> 54.2</td><td>3.8  </td></tr>\n",
       "\t<tr><td> 2   </td><td> 0   </td><td>46   </td><td>192  </td><td> 60  </td><td>1    </td><td> 54.0</td><td>6.0  </td></tr>\n",
       "\t<tr><td> 3   </td><td> 0   </td><td>55   </td><td>170  </td><td> 64  </td><td>1    </td><td> 63.3</td><td>0.7  </td></tr>\n",
       "\t<tr><td> 4   </td><td> 0   </td><td>33   </td><td>171  </td><td> 64  </td><td>1    </td><td> 61.1</td><td>2.9  </td></tr>\n",
       "</tbody>\n",
       "</table>\n"
      ],
      "text/latex": [
       "\\begin{tabular}{r|llllllll}\n",
       " Person & gender & Age & Height & pre.weight & Diet & weight6weeks & weightLOST\\\\\n",
       "\\hline\n",
       "\t 25    & NA    & 41    & 171   &  60   & 2     &  60.0 & 0.0  \\\\\n",
       "\t 26    & NA    & 32    & 174   & 103   & 2     & 103.0 & 0.0  \\\\\n",
       "\t  1    &  0    & 22    & 159   &  58   & 1     &  54.2 & 3.8  \\\\\n",
       "\t  2    &  0    & 46    & 192   &  60   & 1     &  54.0 & 6.0  \\\\\n",
       "\t  3    &  0    & 55    & 170   &  64   & 1     &  63.3 & 0.7  \\\\\n",
       "\t  4    &  0    & 33    & 171   &  64   & 1     &  61.1 & 2.9  \\\\\n",
       "\\end{tabular}\n"
      ],
      "text/markdown": [
       "\n",
       "| Person | gender | Age | Height | pre.weight | Diet | weight6weeks | weightLOST |\n",
       "|---|---|---|---|---|---|---|---|\n",
       "| 25    | NA    | 41    | 171   |  60   | 2     |  60.0 | 0.0   |\n",
       "| 26    | NA    | 32    | 174   | 103   | 2     | 103.0 | 0.0   |\n",
       "|  1    |  0    | 22    | 159   |  58   | 1     |  54.2 | 3.8   |\n",
       "|  2    |  0    | 46    | 192   |  60   | 1     |  54.0 | 6.0   |\n",
       "|  3    |  0    | 55    | 170   |  64   | 1     |  63.3 | 0.7   |\n",
       "|  4    |  0    | 33    | 171   |  64   | 1     |  61.1 | 2.9   |\n",
       "\n"
      ],
      "text/plain": [
       "  Person gender Age Height pre.weight Diet weight6weeks weightLOST\n",
       "1 25     NA     41  171     60        2     60.0        0.0       \n",
       "2 26     NA     32  174    103        2    103.0        0.0       \n",
       "3  1      0     22  159     58        1     54.2        3.8       \n",
       "4  2      0     46  192     60        1     54.0        6.0       \n",
       "5  3      0     55  170     64        1     63.3        0.7       \n",
       "6  4      0     33  171     64        1     61.1        2.9       "
      ]
     },
     "metadata": {},
     "output_type": "display_data"
    }
   ],
   "source": [
    "#hmm it looks like the csv file didn't include a weightLOST column\n",
    "#lets calculate and add that to our local version\n",
    "\n",
    "dietdata$weightLOST<-dietdata$pre.weight-dietdata$weight6weeks\n",
    "head(dietdata)"
   ]
  },
  {
   "cell_type": "code",
   "execution_count": 29,
   "metadata": {},
   "outputs": [
    {
     "data": {
      "text/html": [
       "0"
      ],
      "text/latex": [
       "0"
      ],
      "text/markdown": [
       "0"
      ],
      "text/plain": [
       "[1] 0"
      ]
     },
     "metadata": {},
     "output_type": "display_data"
    }
   ],
   "source": [
    "#are they identical?\n",
    "sum(dietdata$weightLOST - dietspss$weightLOST)"
   ]
  },
  {
   "cell_type": "markdown",
   "metadata": {},
   "source": [
    "### Remote data \n",
    "\n",
    "\n",
    "The diet datafile comes from a nice collection created by the University of Sheffield. https://www.sheffield.ac.uk/mash/data \n",
    "\n",
    "Not only do they have data you can play around with.  They also have worked examples of how you might run various analyses with thse data https://www.sheffield.ac.uk/mash/statistics2/anova\n",
    "\n",
    "\n",
    "The original URL for the `diet.csv` file is \n",
    "> https://www.sheffield.ac.uk/polopoly_fs/1.570199!/file/stcp-Rdataset-Diet.csv\n",
    "\n",
    "Let's load that one."
   ]
  },
  {
   "cell_type": "code",
   "execution_count": 30,
   "metadata": {},
   "outputs": [
    {
     "name": "stderr",
     "output_type": "stream",
     "text": [
      "\n",
      "-- Column specification --------------------------------------------------------\n",
      "cols(\n",
      "  Person = col_double(),\n",
      "  gender = col_double(),\n",
      "  Age = col_double(),\n",
      "  Height = col_double(),\n",
      "  pre.weight = col_double(),\n",
      "  Diet = col_double(),\n",
      "  weight6weeks = col_double()\n",
      ")\n",
      "\n"
     ]
    },
    {
     "data": {
      "text/html": [
       "<table>\n",
       "<thead><tr><th scope=col>Person</th><th scope=col>gender</th><th scope=col>Age</th><th scope=col>Height</th><th scope=col>pre.weight</th><th scope=col>Diet</th><th scope=col>weight6weeks</th></tr></thead>\n",
       "<tbody>\n",
       "\t<tr><td>25   </td><td>NA   </td><td>41   </td><td>171  </td><td> 60  </td><td>2    </td><td> 60.0</td></tr>\n",
       "\t<tr><td>26   </td><td>NA   </td><td>32   </td><td>174  </td><td>103  </td><td>2    </td><td>103.0</td></tr>\n",
       "\t<tr><td> 1   </td><td> 0   </td><td>22   </td><td>159  </td><td> 58  </td><td>1    </td><td> 54.2</td></tr>\n",
       "\t<tr><td> 2   </td><td> 0   </td><td>46   </td><td>192  </td><td> 60  </td><td>1    </td><td> 54.0</td></tr>\n",
       "\t<tr><td> 3   </td><td> 0   </td><td>55   </td><td>170  </td><td> 64  </td><td>1    </td><td> 63.3</td></tr>\n",
       "\t<tr><td> 4   </td><td> 0   </td><td>33   </td><td>171  </td><td> 64  </td><td>1    </td><td> 61.1</td></tr>\n",
       "</tbody>\n",
       "</table>\n"
      ],
      "text/latex": [
       "\\begin{tabular}{r|lllllll}\n",
       " Person & gender & Age & Height & pre.weight & Diet & weight6weeks\\\\\n",
       "\\hline\n",
       "\t 25    & NA    & 41    & 171   &  60   & 2     &  60.0\\\\\n",
       "\t 26    & NA    & 32    & 174   & 103   & 2     & 103.0\\\\\n",
       "\t  1    &  0    & 22    & 159   &  58   & 1     &  54.2\\\\\n",
       "\t  2    &  0    & 46    & 192   &  60   & 1     &  54.0\\\\\n",
       "\t  3    &  0    & 55    & 170   &  64   & 1     &  63.3\\\\\n",
       "\t  4    &  0    & 33    & 171   &  64   & 1     &  61.1\\\\\n",
       "\\end{tabular}\n"
      ],
      "text/markdown": [
       "\n",
       "| Person | gender | Age | Height | pre.weight | Diet | weight6weeks |\n",
       "|---|---|---|---|---|---|---|\n",
       "| 25    | NA    | 41    | 171   |  60   | 2     |  60.0 |\n",
       "| 26    | NA    | 32    | 174   | 103   | 2     | 103.0 |\n",
       "|  1    |  0    | 22    | 159   |  58   | 1     |  54.2 |\n",
       "|  2    |  0    | 46    | 192   |  60   | 1     |  54.0 |\n",
       "|  3    |  0    | 55    | 170   |  64   | 1     |  63.3 |\n",
       "|  4    |  0    | 33    | 171   |  64   | 1     |  61.1 |\n",
       "\n"
      ],
      "text/plain": [
       "  Person gender Age Height pre.weight Diet weight6weeks\n",
       "1 25     NA     41  171     60        2     60.0       \n",
       "2 26     NA     32  174    103        2    103.0       \n",
       "3  1      0     22  159     58        1     54.2       \n",
       "4  2      0     46  192     60        1     54.0       \n",
       "5  3      0     55  170     64        1     63.3       \n",
       "6  4      0     33  171     64        1     61.1       "
      ]
     },
     "metadata": {},
     "output_type": "display_data"
    }
   ],
   "source": [
    "dietRemote<-read_csv(url(\"https://www.sheffield.ac.uk/polopoly_fs/1.570199!/file/stcp-Rdataset-Diet.csv\"))\n",
    "\n",
    "head(dietRemote)"
   ]
  },
  {
   "cell_type": "markdown",
   "metadata": {},
   "source": [
    "<a id='graphs'></a>"
   ]
  },
  {
   "cell_type": "markdown",
   "metadata": {},
   "source": [
    "### Graphs using ggplot2\n",
    "\n",
    "If there was one reason to use R instead of SPSS or Excel it is ggplot2. Another Hadley Wickham creation that makes it (relatively) easy to create beautiful and informative graphs. \n",
    "\n",
    "It takes a little getting used to a first (keep your cheatsheet handy). But once you get the hang of it is very powerful and adaptable.\n",
    "\n",
    "Plus, there are lots of examples and extensions available online. One useful extension I would recommend is `ggpubr` which adds the little details you need for a publication ready graph (e.g. adding significance comparisons between conditions).\n",
    "\n",
    "* https://blog.modeanalytics.com/r-ggplot-extension-packages\n",
    "* https://micahallen.org/2018/03/15/introducing-raincloud-plots/"
   ]
  },
  {
   "cell_type": "markdown",
   "metadata": {},
   "source": [
    "#### Data wrangling\n",
    "\n",
    "First we need to tell it a little bit more about our data types. i.e. which variables/columns are categorical data. We will give them labels too. And remove incomplete cases."
   ]
  },
  {
   "cell_type": "code",
   "execution_count": 31,
   "metadata": {},
   "outputs": [],
   "source": [
    "# create factors with value labels \n",
    "dietdata$gender <- factor(dietdata$gender,levels=c(0,1),\n",
    "  \tlabels=c(\"Female\",\"Male\")) \n",
    "\n",
    "dietdata$Diet <- factor(dietdata$Diet,levels=c(1,2,3),\n",
    "  \tlabels=c(\"Control\",\"Low Carb\",\"Low Cal\")) \n",
    "\n",
    "#we also have two participants with missing value `NA` for gender.\n",
    "#Let's exclude them from the dataset\n",
    "# There are various ways to do this\n",
    "# use the function complete.cases to logically select rows\n",
    "dietall_v1<-dietdata[complete.cases(dietdata),]\n",
    "\n",
    "# or let tidyr do it for you\n",
    "dietall_v2<-dietdata %>% drop_na()  "
   ]
  },
  {
   "cell_type": "code",
   "execution_count": 32,
   "metadata": {},
   "outputs": [
    {
     "data": {
      "text/html": [
       "<table>\n",
       "<thead><tr><th scope=col>Person</th><th scope=col>gender</th><th scope=col>Age</th><th scope=col>Height</th><th scope=col>pre.weight</th><th scope=col>Diet</th><th scope=col>weight6weeks</th><th scope=col>weightLOST</th></tr></thead>\n",
       "<tbody>\n",
       "\t<tr><td>1      </td><td>Female </td><td>22     </td><td>159    </td><td>58     </td><td>Control</td><td>54.2   </td><td>3.8    </td></tr>\n",
       "\t<tr><td>2      </td><td>Female </td><td>46     </td><td>192    </td><td>60     </td><td>Control</td><td>54.0   </td><td>6.0    </td></tr>\n",
       "\t<tr><td>3      </td><td>Female </td><td>55     </td><td>170    </td><td>64     </td><td>Control</td><td>63.3   </td><td>0.7    </td></tr>\n",
       "\t<tr><td>4      </td><td>Female </td><td>33     </td><td>171    </td><td>64     </td><td>Control</td><td>61.1   </td><td>2.9    </td></tr>\n",
       "\t<tr><td>5      </td><td>Female </td><td>50     </td><td>170    </td><td>65     </td><td>Control</td><td>62.2   </td><td>2.8    </td></tr>\n",
       "\t<tr><td>6      </td><td>Female </td><td>50     </td><td>201    </td><td>66     </td><td>Control</td><td>64.0   </td><td>2.0    </td></tr>\n",
       "</tbody>\n",
       "</table>\n"
      ],
      "text/latex": [
       "\\begin{tabular}{r|llllllll}\n",
       " Person & gender & Age & Height & pre.weight & Diet & weight6weeks & weightLOST\\\\\n",
       "\\hline\n",
       "\t 1       & Female  & 22      & 159     & 58      & Control & 54.2    & 3.8    \\\\\n",
       "\t 2       & Female  & 46      & 192     & 60      & Control & 54.0    & 6.0    \\\\\n",
       "\t 3       & Female  & 55      & 170     & 64      & Control & 63.3    & 0.7    \\\\\n",
       "\t 4       & Female  & 33      & 171     & 64      & Control & 61.1    & 2.9    \\\\\n",
       "\t 5       & Female  & 50      & 170     & 65      & Control & 62.2    & 2.8    \\\\\n",
       "\t 6       & Female  & 50      & 201     & 66      & Control & 64.0    & 2.0    \\\\\n",
       "\\end{tabular}\n"
      ],
      "text/markdown": [
       "\n",
       "| Person | gender | Age | Height | pre.weight | Diet | weight6weeks | weightLOST |\n",
       "|---|---|---|---|---|---|---|---|\n",
       "| 1       | Female  | 22      | 159     | 58      | Control | 54.2    | 3.8     |\n",
       "| 2       | Female  | 46      | 192     | 60      | Control | 54.0    | 6.0     |\n",
       "| 3       | Female  | 55      | 170     | 64      | Control | 63.3    | 0.7     |\n",
       "| 4       | Female  | 33      | 171     | 64      | Control | 61.1    | 2.9     |\n",
       "| 5       | Female  | 50      | 170     | 65      | Control | 62.2    | 2.8     |\n",
       "| 6       | Female  | 50      | 201     | 66      | Control | 64.0    | 2.0     |\n",
       "\n"
      ],
      "text/plain": [
       "  Person gender Age Height pre.weight Diet    weight6weeks weightLOST\n",
       "1 1      Female 22  159    58         Control 54.2         3.8       \n",
       "2 2      Female 46  192    60         Control 54.0         6.0       \n",
       "3 3      Female 55  170    64         Control 63.3         0.7       \n",
       "4 4      Female 33  171    64         Control 61.1         2.9       \n",
       "5 5      Female 50  170    65         Control 62.2         2.8       \n",
       "6 6      Female 50  201    66         Control 64.0         2.0       "
      ]
     },
     "metadata": {},
     "output_type": "display_data"
    },
    {
     "data": {
      "text/html": [
       "<table>\n",
       "<thead><tr><th scope=col>Person</th><th scope=col>gender</th><th scope=col>Age</th><th scope=col>Height</th><th scope=col>pre.weight</th><th scope=col>Diet</th><th scope=col>weight6weeks</th><th scope=col>weightLOST</th></tr></thead>\n",
       "<tbody>\n",
       "\t<tr><td>1      </td><td>Female </td><td>22     </td><td>159    </td><td>58     </td><td>Control</td><td>54.2   </td><td>3.8    </td></tr>\n",
       "\t<tr><td>2      </td><td>Female </td><td>46     </td><td>192    </td><td>60     </td><td>Control</td><td>54.0   </td><td>6.0    </td></tr>\n",
       "\t<tr><td>3      </td><td>Female </td><td>55     </td><td>170    </td><td>64     </td><td>Control</td><td>63.3   </td><td>0.7    </td></tr>\n",
       "\t<tr><td>4      </td><td>Female </td><td>33     </td><td>171    </td><td>64     </td><td>Control</td><td>61.1   </td><td>2.9    </td></tr>\n",
       "\t<tr><td>5      </td><td>Female </td><td>50     </td><td>170    </td><td>65     </td><td>Control</td><td>62.2   </td><td>2.8    </td></tr>\n",
       "\t<tr><td>6      </td><td>Female </td><td>50     </td><td>201    </td><td>66     </td><td>Control</td><td>64.0   </td><td>2.0    </td></tr>\n",
       "</tbody>\n",
       "</table>\n"
      ],
      "text/latex": [
       "\\begin{tabular}{r|llllllll}\n",
       " Person & gender & Age & Height & pre.weight & Diet & weight6weeks & weightLOST\\\\\n",
       "\\hline\n",
       "\t 1       & Female  & 22      & 159     & 58      & Control & 54.2    & 3.8    \\\\\n",
       "\t 2       & Female  & 46      & 192     & 60      & Control & 54.0    & 6.0    \\\\\n",
       "\t 3       & Female  & 55      & 170     & 64      & Control & 63.3    & 0.7    \\\\\n",
       "\t 4       & Female  & 33      & 171     & 64      & Control & 61.1    & 2.9    \\\\\n",
       "\t 5       & Female  & 50      & 170     & 65      & Control & 62.2    & 2.8    \\\\\n",
       "\t 6       & Female  & 50      & 201     & 66      & Control & 64.0    & 2.0    \\\\\n",
       "\\end{tabular}\n"
      ],
      "text/markdown": [
       "\n",
       "| Person | gender | Age | Height | pre.weight | Diet | weight6weeks | weightLOST |\n",
       "|---|---|---|---|---|---|---|---|\n",
       "| 1       | Female  | 22      | 159     | 58      | Control | 54.2    | 3.8     |\n",
       "| 2       | Female  | 46      | 192     | 60      | Control | 54.0    | 6.0     |\n",
       "| 3       | Female  | 55      | 170     | 64      | Control | 63.3    | 0.7     |\n",
       "| 4       | Female  | 33      | 171     | 64      | Control | 61.1    | 2.9     |\n",
       "| 5       | Female  | 50      | 170     | 65      | Control | 62.2    | 2.8     |\n",
       "| 6       | Female  | 50      | 201     | 66      | Control | 64.0    | 2.0     |\n",
       "\n"
      ],
      "text/plain": [
       "  Person gender Age Height pre.weight Diet    weight6weeks weightLOST\n",
       "1 1      Female 22  159    58         Control 54.2         3.8       \n",
       "2 2      Female 46  192    60         Control 54.0         6.0       \n",
       "3 3      Female 55  170    64         Control 63.3         0.7       \n",
       "4 4      Female 33  171    64         Control 61.1         2.9       \n",
       "5 5      Female 50  170    65         Control 62.2         2.8       \n",
       "6 6      Female 50  201    66         Control 64.0         2.0       "
      ]
     },
     "metadata": {},
     "output_type": "display_data"
    }
   ],
   "source": [
    "#let's take a look at both of those\n",
    "head(dietall_v1)\n",
    "head(dietall_v2)"
   ]
  },
  {
   "cell_type": "code",
   "execution_count": 33,
   "metadata": {},
   "outputs": [
    {
     "data": {
      "image/png": "[encoded data removed]",
      "text/plain": [
       "plot without title"
      ]
     },
     "metadata": {},
     "output_type": "display_data"
    }
   ],
   "source": [
    "# Lets start with a couple of plots exploring our diet data\n",
    "# first a box plot comparing ages of males and females \n",
    "ggplot(data = dietall_v2, aes(x = gender, y=Age)) + \n",
    "        geom_boxplot() "
   ]
  },
  {
   "cell_type": "code",
   "execution_count": 35,
   "metadata": {},
   "outputs": [
    {
     "data": {
      "text/html": [
       "<table>\n",
       "<thead><tr><th scope=col>Diet</th><th scope=col>n</th></tr></thead>\n",
       "<tbody>\n",
       "\t<tr><td>Control </td><td>24      </td></tr>\n",
       "\t<tr><td>Low Carb</td><td>25      </td></tr>\n",
       "\t<tr><td>Low Cal </td><td>27      </td></tr>\n",
       "</tbody>\n",
       "</table>\n"
      ],
      "text/latex": [
       "\\begin{tabular}{r|ll}\n",
       " Diet & n\\\\\n",
       "\\hline\n",
       "\t Control  & 24      \\\\\n",
       "\t Low Carb & 25      \\\\\n",
       "\t Low Cal  & 27      \\\\\n",
       "\\end{tabular}\n"
      ],
      "text/markdown": [
       "\n",
       "| Diet | n |\n",
       "|---|---|\n",
       "| Control  | 24       |\n",
       "| Low Carb | 25       |\n",
       "| Low Cal  | 27       |\n",
       "\n"
      ],
      "text/plain": [
       "  Diet     n \n",
       "1 Control  24\n",
       "2 Low Carb 25\n",
       "3 Low Cal  27"
      ]
     },
     "metadata": {},
     "output_type": "display_data"
    },
    {
     "data": {
      "image/png": "[encoded data removed]",
      "text/plain": [
       "plot without title"
      ]
     },
     "metadata": {},
     "output_type": "display_data"
    }
   ],
   "source": [
    "# now how much weight was lost on each diet type\n",
    "ggplot(data = dietall_v2, aes(x = Diet, y=weightLOST)) + \n",
    "        geom_boxplot()  \n",
    "\n",
    "#let's count our groups too\n",
    "dietall_v2 %>% group_by(Diet) %>% count()"
   ]
  },
  {
   "cell_type": "code",
   "execution_count": 34,
   "metadata": {},
   "outputs": [
    {
     "data": {
      "text/html": [
       "<table>\n",
       "<thead><tr><th scope=col>Diet</th><th scope=col>gender</th><th scope=col>n</th></tr></thead>\n",
       "<tbody>\n",
       "\t<tr><td>Control </td><td>Female  </td><td>14      </td></tr>\n",
       "\t<tr><td>Control </td><td>Male    </td><td>10      </td></tr>\n",
       "\t<tr><td>Low Carb</td><td>Female  </td><td>14      </td></tr>\n",
       "\t<tr><td>Low Carb</td><td>Male    </td><td>11      </td></tr>\n",
       "\t<tr><td>Low Cal </td><td>Female  </td><td>15      </td></tr>\n",
       "\t<tr><td>Low Cal </td><td>Male    </td><td>12      </td></tr>\n",
       "</tbody>\n",
       "</table>\n"
      ],
      "text/latex": [
       "\\begin{tabular}{r|lll}\n",
       " Diet & gender & n\\\\\n",
       "\\hline\n",
       "\t Control  & Female   & 14      \\\\\n",
       "\t Control  & Male     & 10      \\\\\n",
       "\t Low Carb & Female   & 14      \\\\\n",
       "\t Low Carb & Male     & 11      \\\\\n",
       "\t Low Cal  & Female   & 15      \\\\\n",
       "\t Low Cal  & Male     & 12      \\\\\n",
       "\\end{tabular}\n"
      ],
      "text/markdown": [
       "\n",
       "| Diet | gender | n |\n",
       "|---|---|---|\n",
       "| Control  | Female   | 14       |\n",
       "| Control  | Male     | 10       |\n",
       "| Low Carb | Female   | 14       |\n",
       "| Low Carb | Male     | 11       |\n",
       "| Low Cal  | Female   | 15       |\n",
       "| Low Cal  | Male     | 12       |\n",
       "\n"
      ],
      "text/plain": [
       "  Diet     gender n \n",
       "1 Control  Female 14\n",
       "2 Control  Male   10\n",
       "3 Low Carb Female 14\n",
       "4 Low Carb Male   11\n",
       "5 Low Cal  Female 15\n",
       "6 Low Cal  Male   12"
      ]
     },
     "metadata": {},
     "output_type": "display_data"
    },
    {
     "data": {
      "image/png": "[encoded data removed]",
      "text/plain": [
       "plot without title"
      ]
     },
     "metadata": {},
     "output_type": "display_data"
    }
   ],
   "source": [
    "# now let's separate those out by gender\n",
    "ggplot(data = dietall_v2, aes(x = Diet, y=weightLOST)) + \n",
    "        geom_boxplot()  + facet_grid(~ gender,)\n",
    "\n",
    "#let's count our groups too\n",
    "dietall_v2 %>% group_by(Diet, gender) %>% count()"
   ]
  },
  {
   "cell_type": "markdown",
   "metadata": {},
   "source": [
    "Hopefully, this gives you a sense of how powerful ggplot is. Admittedly, the commands\n",
    "are not completely intuitive. YOU should get used to using the cheetsheet and for \n",
    "searching for examples online. The help community websites [StackExchange](https://stats.stackexchange.com/questions/tagged/ggplot2) and [Stack Overflow](https://stackoverflow.com/questions/tagged/ggplot2) both have lots of help for R and for tools like ggplot.\n",
    "\n",
    "\n",
    "Chances are you aren't the first person to encounter a particular problem."
   ]
  },
  {
   "cell_type": "code",
   "execution_count": 37,
   "metadata": {},
   "outputs": [
    {
     "data": {
      "image/png": "[encoded data removed]",
      "text/plain": [
       "plot without title"
      ]
     },
     "metadata": {},
     "output_type": "display_data"
    }
   ],
   "source": [
    "# let's try something a bit more modern\n",
    "ggplot(data = dietall_v2, aes(x = Diet, y=weightLOST)) + \n",
    "        geom_violin(aes(fill=Diet))  + \n",
    "       geom_jitter() +\n",
    "        facet_grid(~ gender,) +\n",
    "        ggtitle('Effect of diet type by gender') +\n",
    "        ylab('Weight lost in kg') + \n",
    "        theme_light()\n",
    "\n",
    "# notice that you can add and remove elements. Try uncommenting the third line"
   ]
  },
  {
   "cell_type": "code",
   "execution_count": 17,
   "metadata": {},
   "outputs": [
    {
     "name": "stderr",
     "output_type": "stream",
     "text": [
      "`geom_smooth()` using method = 'loess' and formula 'y ~ x'\n",
      "\n"
     ]
    },
    {
     "data": {
      "image/png": "[encoded data removed]",
      "text/plain": [
       "plot without title"
      ]
     },
     "metadata": {
      "image/png": {
       "height": 420,
       "width": 420
      }
     },
     "output_type": "display_data"
    }
   ],
   "source": [
    "# I wonder if age affects success?\n",
    "ggplot(data = dietall_v2, aes(x = Age, y=weightLOST)) + \n",
    "        geom_smooth()"
   ]
  },
  {
   "cell_type": "code",
   "execution_count": 18,
   "metadata": {},
   "outputs": [
    {
     "name": "stderr",
     "output_type": "stream",
     "text": [
      "`geom_smooth()` using method = 'loess' and formula 'y ~ x'\n",
      "\n"
     ]
    },
    {
     "data": {
      "image/png": "[encoded data removed]",
      "text/plain": [
       "plot without title"
      ]
     },
     "metadata": {
      "image/png": {
       "height": 420,
       "width": 420
      }
     },
     "output_type": "display_data"
    }
   ],
   "source": [
    "# is it easier to lose weight if you weigh more at the start?\n",
    "ggplot(data = dietall_v2, aes(x = pre.weight, y=weightLOST)) + \n",
    "        geom_smooth()"
   ]
  },
  {
   "cell_type": "code",
   "execution_count": 19,
   "metadata": {},
   "outputs": [
    {
     "data": {
      "image/png": "[encoded data removed]",
      "text/plain": [
       "plot without title"
      ]
     },
     "metadata": {
      "image/png": {
       "height": 420,
       "width": 420
      }
     },
     "output_type": "display_data"
    }
   ],
   "source": [
    "#can we see that as a classic linear regression instead?\n",
    "ggplot(data = dietall_v2, aes(x = pre.weight, y=weightLOST)) + \n",
    "        geom_point() +\n",
    "        geom_smooth(method=lm)"
   ]
  },
  {
   "cell_type": "markdown",
   "metadata": {},
   "source": [
    "<a id='stats'></a>"
   ]
  },
  {
   "cell_type": "markdown",
   "metadata": {},
   "source": [
    "### Basic Stats\n",
    "\n",
    "R was created by statisticians. The downside of this is that it is very difficult and unusual computer language. The upside is that it is the *BEST* environment for doing statistics and has a vast range of available tools. \n",
    "\n",
    "But be careful, stats is hard. \n"
   ]
  },
  {
   "cell_type": "code",
   "execution_count": 20,
   "metadata": {
    "scrolled": true
   },
   "outputs": [
    {
     "data": {
      "text/plain": [
       "\n",
       "\tWelch Two Sample t-test\n",
       "\n",
       "data:  dietall_v2$pre.weight and dietall_v2$weight6weeks\n",
       "t = 3.0342, df = 149.98, p-value = 0.002843\n",
       "alternative hypothesis: true difference in means is not equal to 0\n",
       "95 percent confidence interval:\n",
       " 1.376358 6.515747\n",
       "sample estimates:\n",
       "mean of x mean of y \n",
       " 72.28947  68.34342 \n"
      ]
     },
     "metadata": {},
     "output_type": "display_data"
    }
   ],
   "source": [
    "#let's start with something we think we understand..\n",
    "#try to run a t-test \n",
    "t.test(x = dietall_v2$pre.weight, y= dietall_v2$weight6weeks)"
   ]
  },
  {
   "cell_type": "code",
   "execution_count": 21,
   "metadata": {},
   "outputs": [
    {
     "data": {
      "text/plain": [
       "\n",
       "\tPaired t-test\n",
       "\n",
       "data:  dietall_v2$pre.weight and dietall_v2$weight6weeks\n",
       "t = 13.728, df = 75, p-value < 2.2e-16\n",
       "alternative hypothesis: true difference in means is not equal to 0\n",
       "95 percent confidence interval:\n",
       " 3.373452 4.518653\n",
       "sample estimates:\n",
       "mean of the differences \n",
       "               3.946053 \n"
      ]
     },
     "metadata": {},
     "output_type": "display_data"
    }
   ],
   "source": [
    "\n",
    "t.test(x = dietall_v2$pre.weight, y= dietall_v2$weight6weeks,\n",
    "      paired = TRUE, var.equal = TRUE)"
   ]
  },
  {
   "cell_type": "code",
   "execution_count": 24,
   "metadata": {},
   "outputs": [
    {
     "name": "stderr",
     "output_type": "stream",
     "text": [
      "Installing package into 'C:/Users/cas/OneDrive - Goldsmiths College/Documents/R/win-library/3.6'\n",
      "(as 'lib' is unspecified)\n",
      "\n"
     ]
    },
    {
     "name": "stdout",
     "output_type": "stream",
     "text": [
      "package 'psych' successfully unpacked and MD5 sums checked\n",
      "\n",
      "The downloaded binary packages are in\n",
      "\tC:\\Users\\cas\\AppData\\Local\\Temp\\Rtmporl5IJ\\downloaded_packages\n"
     ]
    },
    {
     "name": "stderr",
     "output_type": "stream",
     "text": [
      "Warning message:\n",
      "\"package 'psych' was built under R version 3.6.3\"\n",
      "\n",
      "Attaching package: 'psych'\n",
      "\n",
      "\n",
      "The following objects are masked from 'package:ggplot2':\n",
      "\n",
      "    %+%, alpha\n",
      "\n",
      "\n"
     ]
    }
   ],
   "source": [
    "install.packages(\"psych\")\n"
   ]
  },
  {
   "cell_type": "code",
   "execution_count": 37,
   "metadata": {},
   "outputs": [
    {
     "data": {
      "text/html": [
       "1.57476543029828"
      ],
      "text/latex": [
       "1.57476543029828"
      ],
      "text/markdown": [
       "1.57476543029828"
      ],
      "text/plain": [
       "[1] 1.574765"
      ]
     },
     "metadata": {},
     "output_type": "display_data"
    }
   ],
   "source": [
    "\n",
    "\n",
    "m1 = mean(dietall_v2$pre.weight)\n",
    "m2 = mean(dietall_v2$weight6weeks)\n",
    "diff = dietall_v2$pre.weight - dietall_v2$weight6weeks\n",
    "\n",
    "d = (m1-m2)/sd(diff)\n",
    "d"
   ]
  },
  {
   "cell_type": "markdown",
   "metadata": {},
   "source": [
    "#### ezANOVA\n",
    "\n",
    "It rapidly gets a lot more complicated than that. R has a much more generic and flexible approach to linear models and analysis of variance. This can be very confusing for social scientists. Again the solution is to make use of extensions which take care of this for you. Package `ez` is useful for running ANOVA.\n"
   ]
  },
  {
   "cell_type": "code",
   "execution_count": 39,
   "metadata": {},
   "outputs": [
    {
     "name": "stderr",
     "output_type": "stream",
     "text": [
      "Installing package into 'C:/Users/cas/OneDrive/Documents/R/win-library/3.6'\n",
      "(as 'lib' is unspecified)\n"
     ]
    },
    {
     "name": "stdout",
     "output_type": "stream",
     "text": [
      "package 'ez' successfully unpacked and MD5 sums checked\n",
      "\n",
      "The downloaded binary packages are in\n",
      "\tC:\\Users\\cas\\AppData\\Local\\Temp\\RtmpSUj0OX\\downloaded_packages\n"
     ]
    },
    {
     "name": "stderr",
     "output_type": "stream",
     "text": [
      "Warning message:\n",
      "\"package 'ez' was built under R version 3.6.3\"Registered S3 methods overwritten by 'lme4':\n",
      "  method                          from\n",
      "  cooks.distance.influence.merMod car \n",
      "  influence.merMod                car \n",
      "  dfbeta.influence.merMod         car \n",
      "  dfbetas.influence.merMod        car \n"
     ]
    }
   ],
   "source": [
    "install.packages(\"ez\")\n",
    "library(ez)"
   ]
  },
  {
   "cell_type": "code",
   "execution_count": 40,
   "metadata": {},
   "outputs": [
    {
     "name": "stderr",
     "output_type": "stream",
     "text": [
      "Warning message:\n",
      "\"Converting \"Person\" to factor for ANOVA.\"Warning message:\n",
      "\"Data is unbalanced (unequal N per group). Make sure you specified a well-considered value for the type argument to ezANOVA().\"Coefficient covariances computed by hccm()\n"
     ]
    },
    {
     "data": {
      "text/html": [
       "<dl>\n",
       "\t<dt>$ANOVA</dt>\n",
       "\t\t<dd><table>\n",
       "<thead><tr><th scope=col>Effect</th><th scope=col>DFn</th><th scope=col>DFd</th><th scope=col>F</th><th scope=col>p</th><th scope=col>p&lt;.05</th><th scope=col>ges</th></tr></thead>\n",
       "<tbody>\n",
       "\t<tr><td>gender     </td><td>1          </td><td>70         </td><td>0.03137868 </td><td>0.85990976 </td><td>           </td><td>0.000448066</td></tr>\n",
       "\t<tr><td>Diet       </td><td>2          </td><td>70         </td><td>5.61902602 </td><td>0.00545568 </td><td>*          </td><td>0.138334829</td></tr>\n",
       "\t<tr><td>gender:Diet</td><td>2          </td><td>70         </td><td>3.15320438 </td><td>0.04884228 </td><td>*          </td><td>0.082645860</td></tr>\n",
       "</tbody>\n",
       "</table>\n",
       "</dd>\n",
       "\t<dt>$`Levene's Test for Homogeneity of Variance`</dt>\n",
       "\t\t<dd><table>\n",
       "<thead><tr><th scope=col>DFn</th><th scope=col>DFd</th><th scope=col>SSn</th><th scope=col>SSd</th><th scope=col>F</th><th scope=col>p</th><th scope=col>p&lt;.05</th></tr></thead>\n",
       "<tbody>\n",
       "\t<tr><td>5        </td><td>70       </td><td>5.092595 </td><td>184.3742 </td><td>0.3866936</td><td>0.8563347</td><td>         </td></tr>\n",
       "</tbody>\n",
       "</table>\n",
       "</dd>\n",
       "</dl>\n"
      ],
      "text/latex": [
       "\\begin{description}\n",
       "\\item[\\$ANOVA] \\begin{tabular}{r|lllllll}\n",
       " Effect & DFn & DFd & F & p & p<.05 & ges\\\\\n",
       "\\hline\n",
       "\t gender      & 1           & 70          & 0.03137868  & 0.85990976  &             & 0.000448066\\\\\n",
       "\t Diet        & 2           & 70          & 5.61902602  & 0.00545568  & *           & 0.138334829\\\\\n",
       "\t gender:Diet & 2           & 70          & 3.15320438  & 0.04884228  & *           & 0.082645860\\\\\n",
       "\\end{tabular}\n",
       "\n",
       "\\item[\\$`Levene's Test for Homogeneity of Variance`] \\begin{tabular}{r|lllllll}\n",
       " DFn & DFd & SSn & SSd & F & p & p<.05\\\\\n",
       "\\hline\n",
       "\t 5         & 70        & 5.092595  & 184.3742  & 0.3866936 & 0.8563347 &          \\\\\n",
       "\\end{tabular}\n",
       "\n",
       "\\end{description}\n"
      ],
      "text/markdown": [
       "$ANOVA\n",
       ":   \n",
       "| Effect | DFn | DFd | F | p | p<.05 | ges |\n",
       "|---|---|---|---|---|---|---|\n",
       "| gender      | 1           | 70          | 0.03137868  | 0.85990976  |             | 0.000448066 |\n",
       "| Diet        | 2           | 70          | 5.61902602  | 0.00545568  | *           | 0.138334829 |\n",
       "| gender:Diet | 2           | 70          | 3.15320438  | 0.04884228  | *           | 0.082645860 |\n",
       "\n",
       "\n",
       "$`Levene's Test for Homogeneity of Variance`\n",
       ":   \n",
       "| DFn | DFd | SSn | SSd | F | p | p<.05 |\n",
       "|---|---|---|---|---|---|---|\n",
       "| 5         | 70        | 5.092595  | 184.3742  | 0.3866936 | 0.8563347 |           |\n",
       "\n",
       "\n",
       "\n",
       "\n"
      ],
      "text/plain": [
       "$ANOVA\n",
       "       Effect DFn DFd          F          p p<.05         ges\n",
       "1      gender   1  70 0.03137868 0.85990976       0.000448066\n",
       "2        Diet   2  70 5.61902602 0.00545568     * 0.138334829\n",
       "3 gender:Diet   2  70 3.15320438 0.04884228     * 0.082645860\n",
       "\n",
       "$`Levene's Test for Homogeneity of Variance`\n",
       "  DFn DFd      SSn      SSd         F         p p<.05\n",
       "1   5  70 5.092595 184.3742 0.3866936 0.8563347      \n"
      ]
     },
     "metadata": {},
     "output_type": "display_data"
    }
   ],
   "source": [
    "ezANOVA(dietall_v2,\n",
    "        dv = weightLOST,\n",
    "        wid = Person,\n",
    "        between = .(gender, Diet))"
   ]
  },
  {
   "cell_type": "code",
   "execution_count": null,
   "metadata": {},
   "outputs": [],
   "source": []
  },
  {
   "cell_type": "code",
   "execution_count": 42,
   "metadata": {},
   "outputs": [
    {
     "name": "stderr",
     "output_type": "stream",
     "text": [
      "Warning message:\n",
      "\"Converting \"Person\" to factor for ANOVA.\"Warning message:\n",
      "\"Data is unbalanced (unequal N per group). Make sure you specified a well-considered value for the type argument to ezANOVA().\"Coefficient covariances computed by hccm()\n"
     ]
    },
    {
     "data": {
      "text/html": [
       "<dl>\n",
       "\t<dt>$ANOVA</dt>\n",
       "\t\t<dd><table>\n",
       "<thead><tr><th scope=col>Effect</th><th scope=col>DFn</th><th scope=col>DFd</th><th scope=col>F</th><th scope=col>p</th><th scope=col>p&lt;.05</th><th scope=col>ges</th></tr></thead>\n",
       "<tbody>\n",
       "\t<tr><td>gender     </td><td>1          </td><td>70         </td><td>0.03137868 </td><td>0.85990976 </td><td>           </td><td>0.000448066</td></tr>\n",
       "\t<tr><td>Diet       </td><td>2          </td><td>70         </td><td>5.61902602 </td><td>0.00545568 </td><td>*          </td><td>0.138334829</td></tr>\n",
       "\t<tr><td>gender:Diet</td><td>2          </td><td>70         </td><td>3.15320438 </td><td>0.04884228 </td><td>*          </td><td>0.082645860</td></tr>\n",
       "</tbody>\n",
       "</table>\n",
       "</dd>\n",
       "\t<dt>$`Levene's Test for Homogeneity of Variance`</dt>\n",
       "\t\t<dd><table>\n",
       "<thead><tr><th scope=col>DFn</th><th scope=col>DFd</th><th scope=col>SSn</th><th scope=col>SSd</th><th scope=col>F</th><th scope=col>p</th><th scope=col>p&lt;.05</th></tr></thead>\n",
       "<tbody>\n",
       "\t<tr><td>5        </td><td>70       </td><td>5.092595 </td><td>184.3742 </td><td>0.3866936</td><td>0.8563347</td><td>         </td></tr>\n",
       "</tbody>\n",
       "</table>\n",
       "</dd>\n",
       "</dl>\n"
      ],
      "text/latex": [
       "\\begin{description}\n",
       "\\item[\\$ANOVA] \\begin{tabular}{r|lllllll}\n",
       " Effect & DFn & DFd & F & p & p<.05 & ges\\\\\n",
       "\\hline\n",
       "\t gender      & 1           & 70          & 0.03137868  & 0.85990976  &             & 0.000448066\\\\\n",
       "\t Diet        & 2           & 70          & 5.61902602  & 0.00545568  & *           & 0.138334829\\\\\n",
       "\t gender:Diet & 2           & 70          & 3.15320438  & 0.04884228  & *           & 0.082645860\\\\\n",
       "\\end{tabular}\n",
       "\n",
       "\\item[\\$`Levene's Test for Homogeneity of Variance`] \\begin{tabular}{r|lllllll}\n",
       " DFn & DFd & SSn & SSd & F & p & p<.05\\\\\n",
       "\\hline\n",
       "\t 5         & 70        & 5.092595  & 184.3742  & 0.3866936 & 0.8563347 &          \\\\\n",
       "\\end{tabular}\n",
       "\n",
       "\\end{description}\n"
      ],
      "text/markdown": [
       "$ANOVA\n",
       ":   \n",
       "| Effect | DFn | DFd | F | p | p<.05 | ges |\n",
       "|---|---|---|---|---|---|---|\n",
       "| gender      | 1           | 70          | 0.03137868  | 0.85990976  |             | 0.000448066 |\n",
       "| Diet        | 2           | 70          | 5.61902602  | 0.00545568  | *           | 0.138334829 |\n",
       "| gender:Diet | 2           | 70          | 3.15320438  | 0.04884228  | *           | 0.082645860 |\n",
       "\n",
       "\n",
       "$`Levene's Test for Homogeneity of Variance`\n",
       ":   \n",
       "| DFn | DFd | SSn | SSd | F | p | p<.05 |\n",
       "|---|---|---|---|---|---|---|\n",
       "| 5         | 70        | 5.092595  | 184.3742  | 0.3866936 | 0.8563347 |           |\n",
       "\n",
       "\n",
       "\n",
       "\n"
      ],
      "text/plain": [
       "$ANOVA\n",
       "       Effect DFn DFd          F          p p<.05         ges\n",
       "1      gender   1  70 0.03137868 0.85990976       0.000448066\n",
       "2        Diet   2  70 5.61902602 0.00545568     * 0.138334829\n",
       "3 gender:Diet   2  70 3.15320438 0.04884228     * 0.082645860\n",
       "\n",
       "$`Levene's Test for Homogeneity of Variance`\n",
       "  DFn DFd      SSn      SSd         F         p p<.05\n",
       "1   5  70 5.092595 184.3742 0.3866936 0.8563347      \n"
      ]
     },
     "metadata": {},
     "output_type": "display_data"
    }
   ],
   "source": [
    "ezANOVA(dietall_v2,\n",
    "        dv = weightLOST,\n",
    "        wid = Person,\n",
    "        between = .(gender, Diet))"
   ]
  },
  {
   "cell_type": "markdown",
   "metadata": {},
   "source": [
    "\n",
    "Another handy tool is `ggstatsplot` which combines simple stats and graphs into a single call\n",
    "\n",
    "https://indrajeetpatil.github.io/ggstatsplot/\n",
    "\n",
    "Here's a quick example to see how easy it is.."
   ]
  },
  {
   "cell_type": "code",
   "execution_count": 15,
   "metadata": {},
   "outputs": [
    {
     "name": "stderr",
     "output_type": "stream",
     "text": [
      "Warning message:\n",
      "\"package 'ggstatsplot' was built under R version 3.5.1\""
     ]
    }
   ],
   "source": [
    "library(ggstatsplot)"
   ]
  },
  {
   "cell_type": "code",
   "execution_count": 17,
   "metadata": {},
   "outputs": [
    {
     "name": "stdout",
     "output_type": "stream",
     "text": [
      "Reference:  Welch's ANOVA is used as a default. (Delacre, Leys, Mora, & Lakens, PsyArXiv, 2018)."
     ]
    },
    {
     "name": "stderr",
     "output_type": "stream",
     "text": [
      "\n"
     ]
    },
    {
     "name": "stdout",
     "output_type": "stream",
     "text": [
      "Note:  Shapiro-Wilk Normality Test for weightLOST : p-value =  0.790"
     ]
    },
    {
     "name": "stderr",
     "output_type": "stream",
     "text": [
      "\n"
     ]
    },
    {
     "name": "stdout",
     "output_type": "stream",
     "text": [
      "Note:  Bartlett's test for homogeneity of variances for factor Diet : p-value =  0.897"
     ]
    },
    {
     "name": "stderr",
     "output_type": "stream",
     "text": [
      "\n"
     ]
    },
    {
     "data": {},
     "metadata": {},
     "output_type": "display_data"
    },
    {
     "data": {
      "image/png": "[encoded data removed]",
      "text/plain": [
       "plot without title"
      ]
     },
     "metadata": {},
     "output_type": "display_data"
    }
   ],
   "source": [
    "ggstatsplot::ggbetweenstats(data = dietall_v2,\n",
    "                            x = Diet,\n",
    "                            y = weightLOST\n",
    "                            )"
   ]
  }
 ],
 "metadata": {
  "kernelspec": {
   "display_name": "R",
   "language": "R",
   "name": "ir"
  },
  "language_info": {
   "codemirror_mode": "r",
   "file_extension": ".r",
   "mimetype": "text/x-r-source",
   "name": "R",
   "pygments_lexer": "r",
   "version": "3.6.1"
  }
 },
 "nbformat": 4,
 "nbformat_minor": 4
}
